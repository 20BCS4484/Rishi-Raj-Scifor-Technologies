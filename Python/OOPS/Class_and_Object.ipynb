{
  "nbformat": 4,
  "nbformat_minor": 0,
  "metadata": {
    "colab": {
      "provenance": []
    },
    "kernelspec": {
      "name": "python3",
      "display_name": "Python 3"
    },
    "language_info": {
      "name": "python"
    }
  },
  "cells": [
    {
      "cell_type": "code",
      "source": [
        "# Class and Object\n",
        "class Car:\n",
        "    def __init__(self, brand, model):\n",
        "        self.brand = brand\n",
        "        self.model = model\n",
        "\n",
        "    def display_info(self):\n",
        "        print(f\"Brand: {self.brand}, Model: {self.model}\")\n",
        "\n",
        "\n"
      ],
      "metadata": {
        "id": "d0uEP9pZcaiq"
      },
      "execution_count": 72,
      "outputs": []
    },
    {
      "cell_type": "code",
      "source": [
        "# Creating an object (instantiation)\n",
        "car1 = Car(\"Toyota\", \"Corolla\")\n",
        "\n"
      ],
      "metadata": {
        "id": "Mp0y8ZAcdi0_"
      },
      "execution_count": 73,
      "outputs": []
    },
    {
      "cell_type": "code",
      "source": [
        "# Accessing object attributes\n",
        "print(car1.brand)   # Output: Toyota\n",
        "print(car1.model)   # Output: Corolla\n",
        "\n"
      ],
      "metadata": {
        "colab": {
          "base_uri": "https://localhost:8080/"
        },
        "id": "ryjSQn18dlAx",
        "outputId": "86abbdd7-ab19-4666-ee90-db55fe3f8295"
      },
      "execution_count": 74,
      "outputs": [
        {
          "output_type": "stream",
          "name": "stdout",
          "text": [
            "Toyota\n",
            "Corolla\n"
          ]
        }
      ]
    },
    {
      "cell_type": "code",
      "source": [
        "# Calling object method\n",
        "car1.display_info()  # Output: Brand: Toyota, Model: Corolla"
      ],
      "metadata": {
        "colab": {
          "base_uri": "https://localhost:8080/"
        },
        "id": "y6CQ3y5mdmuS",
        "outputId": "f0fa96d9-d5c2-40c4-c93c-817cb5e3c55b"
      },
      "execution_count": 75,
      "outputs": [
        {
          "output_type": "stream",
          "name": "stdout",
          "text": [
            "Brand: Toyota, Model: Corolla\n"
          ]
        }
      ]
    },
    {
      "cell_type": "code",
      "source": [],
      "metadata": {
        "id": "MixZOulkdm-x"
      },
      "execution_count": null,
      "outputs": []
    }
  ]
}