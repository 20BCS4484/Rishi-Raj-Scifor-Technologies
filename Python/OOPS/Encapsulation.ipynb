{
  "nbformat": 4,
  "nbformat_minor": 0,
  "metadata": {
    "colab": {
      "provenance": []
    },
    "kernelspec": {
      "name": "python3",
      "display_name": "Python 3"
    },
    "language_info": {
      "name": "python"
    }
  },
  "cells": [
    {
      "cell_type": "code",
      "source": [
        "# Encapsulation\n",
        "class Book:\n",
        "    def __init__(self, title, author):\n",
        "        self.__title = title\n",
        "        self.__author = author\n",
        "\n",
        "    def get_title(self):\n",
        "        return self.__title\n",
        "\n",
        "    def get_author(self):\n",
        "        return self.__author\n",
        "\n",
        "\n"
      ],
      "metadata": {
        "id": "JnT8KpUceMMK"
      },
      "execution_count": 81,
      "outputs": []
    },
    {
      "cell_type": "code",
      "source": [
        "# Creating an object\n",
        "book = Book(\"Python Programming\", \"Guido van Rossum\")\n",
        "\n"
      ],
      "metadata": {
        "id": "fiCg89bHeQAT"
      },
      "execution_count": 82,
      "outputs": []
    },
    {
      "cell_type": "code",
      "source": [
        "# Accessing private attributes using getter methods\n",
        "print(book.get_title())\n",
        "print(book.get_author())"
      ],
      "metadata": {
        "id": "c6tUfVzWeRqk",
        "outputId": "724f2170-f7ce-4223-9fc9-1e122a4bdd40",
        "colab": {
          "base_uri": "https://localhost:8080/"
        }
      },
      "execution_count": 83,
      "outputs": [
        {
          "output_type": "stream",
          "name": "stdout",
          "text": [
            "Python Programming\n",
            "Guido van Rossum\n"
          ]
        }
      ]
    },
    {
      "cell_type": "code",
      "source": [],
      "metadata": {
        "id": "OM-E6_hjeSAr"
      },
      "execution_count": null,
      "outputs": []
    }
  ]
}