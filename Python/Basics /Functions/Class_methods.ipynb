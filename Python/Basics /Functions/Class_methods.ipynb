{
  "nbformat": 4,
  "nbformat_minor": 0,
  "metadata": {
    "colab": {
      "provenance": []
    },
    "kernelspec": {
      "name": "python3",
      "display_name": "Python 3"
    },
    "language_info": {
      "name": "python"
    }
  },
  "cells": [
    {
      "cell_type": "code",
      "source": [
        "# Example of class methods\n",
        "class MyClass:\n",
        "    def instance_method(self):\n",
        "        return \"Instance method called\", self\n",
        "\n",
        "    @classmethod\n",
        "    def class_method(cls):\n",
        "        return \"Class method called\", cls\n",
        "\n",
        "    @staticmethod\n",
        "    def static_method():\n",
        "        return \"Static method called\"\n",
        "\n",
        "obj = MyClass()\n",
        "print(obj.instance_method())\n",
        "print(MyClass.class_method())\n",
        "print(MyClass.static_method())\n"
      ],
      "metadata": {
        "colab": {
          "base_uri": "https://localhost:8080/"
        },
        "id": "-qN7gGOoUKCF",
        "outputId": "87c5998e-732f-45e8-c3b3-5786a94e9e3a"
      },
      "execution_count": 44,
      "outputs": [
        {
          "output_type": "stream",
          "name": "stdout",
          "text": [
            "('Instance method called', <__main__.MyClass object at 0x78d20a81b340>)\n",
            "('Class method called', <class '__main__.MyClass'>)\n",
            "Static method called\n"
          ]
        }
      ]
    },
    {
      "cell_type": "code",
      "source": [],
      "metadata": {
        "id": "ufZwKGZ7UKzR"
      },
      "execution_count": null,
      "outputs": []
    }
  ]
}